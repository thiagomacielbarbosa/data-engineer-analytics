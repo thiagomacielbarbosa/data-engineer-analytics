{
  "nbformat": 4,
  "nbformat_minor": 0,
  "metadata": {
    "colab": {
      "provenance": [],
      "authorship_tag": "ABX9TyPDyItOfeIpBVisbjiKV9kM",
      "include_colab_link": true
    },
    "kernelspec": {
      "name": "python3",
      "display_name": "Python 3"
    },
    "language_info": {
      "name": "python"
    }
  },
  "cells": [
    {
      "cell_type": "markdown",
      "metadata": {
        "id": "view-in-github",
        "colab_type": "text"
      },
      "source": [
        "<a href=\"https://colab.research.google.com/github/thiagomacielbarbosa/data-engineer-analytics/blob/main/MNIST_Train_ML_GH.ipynb\" target=\"_parent\"><img src=\"https://colab.research.google.com/assets/colab-badge.svg\" alt=\"Open In Colab\"/></a>"
      ]
    },
    {
      "cell_type": "markdown",
      "source": [
        "# MNIST_Train/Machine Learn\n"
      ],
      "metadata": {
        "id": "wBKGj0OoM85L"
      }
    },
    {
      "cell_type": "code",
      "execution_count": null,
      "metadata": {
        "colab": {
          "base_uri": "https://localhost:8080/"
        },
        "id": "B4Tl1sMahBwA",
        "outputId": "ac5220ee-cbee-4894-b3af-87981dcce6af"
      },
      "outputs": [
        {
          "output_type": "stream",
          "name": "stdout",
          "text": [
            "✅ Bibliotecas instaladas e importadas com sucesso!\n"
          ]
        }
      ],
      "source": [
        "!pip install pandas matplotlib seaborn scikit-learn tensorflow --quiet\n",
        "\n",
        "import pandas as pd\n",
        "import numpy as np\n",
        "import matplotlib.pyplot as plt\n",
        "import seaborn as sns\n",
        "from sklearn.model_selection import train_test_split\n",
        "from sklearn.preprocessing import StandardScaler\n",
        "from sklearn.metrics import accuracy_score, classification_report, confusion_matrix\n",
        "import tensorflow as tf\n",
        "from tensorflow import keras\n",
        "from tensorflow.keras import Sequential\n",
        "from tensorflow.keras.layers import Dense, Dropout\n",
        "\n",
        "plt.style.use('ggplot')\n",
        "sns.set_palette(\"husl\")\n",
        "print(\"✅ Bibliotecas instaladas e importadas com sucesso!\")"
      ]
    },
    {
      "cell_type": "code",
      "source": [
        "from google.colab import files\n",
        "uploaded = files.upload()\n",
        "\n",
        "df = pd.read_csv('mnist_train_small.csv')\n",
        "\n",
        "print(\"📊 Dataset carregado com sucesso!\")\n",
        "print(f\"Dimensões do dataset: {df.shape}\")\n",
        "print(\"\\n🔍 Primeiras 5 linhas:\")\n",
        "display(df.head())"
      ],
      "metadata": {
        "colab": {
          "base_uri": "https://localhost:8080/",
          "height": 361
        },
        "id": "xfahI90mhYp8",
        "outputId": "558ba91a-0aa3-4309-fc62-c60a7c18b920"
      },
      "execution_count": null,
      "outputs": [
        {
          "output_type": "display_data",
          "data": {
            "text/plain": [
              "<IPython.core.display.HTML object>"
            ],
            "text/html": [
              "\n",
              "     <input type=\"file\" id=\"files-4a195b88-c130-43a9-a9b4-3dcc9459396c\" name=\"files[]\" multiple disabled\n",
              "        style=\"border:none\" />\n",
              "     <output id=\"result-4a195b88-c130-43a9-a9b4-3dcc9459396c\">\n",
              "      Upload widget is only available when the cell has been executed in the\n",
              "      current browser session. Please rerun this cell to enable.\n",
              "      </output>\n",
              "      <script>// Copyright 2017 Google LLC\n",
              "//\n",
              "// Licensed under the Apache License, Version 2.0 (the \"License\");\n",
              "// you may not use this file except in compliance with the License.\n",
              "// You may obtain a copy of the License at\n",
              "//\n",
              "//      http://www.apache.org/licenses/LICENSE-2.0\n",
              "//\n",
              "// Unless required by applicable law or agreed to in writing, software\n",
              "// distributed under the License is distributed on an \"AS IS\" BASIS,\n",
              "// WITHOUT WARRANTIES OR CONDITIONS OF ANY KIND, either express or implied.\n",
              "// See the License for the specific language governing permissions and\n",
              "// limitations under the License.\n",
              "\n",
              "/**\n",
              " * @fileoverview Helpers for google.colab Python module.\n",
              " */\n",
              "(function(scope) {\n",
              "function span(text, styleAttributes = {}) {\n",
              "  const element = document.createElement('span');\n",
              "  element.textContent = text;\n",
              "  for (const key of Object.keys(styleAttributes)) {\n",
              "    element.style[key] = styleAttributes[key];\n",
              "  }\n",
              "  return element;\n",
              "}\n",
              "\n",
              "// Max number of bytes which will be uploaded at a time.\n",
              "const MAX_PAYLOAD_SIZE = 100 * 1024;\n",
              "\n",
              "function _uploadFiles(inputId, outputId) {\n",
              "  const steps = uploadFilesStep(inputId, outputId);\n",
              "  const outputElement = document.getElementById(outputId);\n",
              "  // Cache steps on the outputElement to make it available for the next call\n",
              "  // to uploadFilesContinue from Python.\n",
              "  outputElement.steps = steps;\n",
              "\n",
              "  return _uploadFilesContinue(outputId);\n",
              "}\n",
              "\n",
              "// This is roughly an async generator (not supported in the browser yet),\n",
              "// where there are multiple asynchronous steps and the Python side is going\n",
              "// to poll for completion of each step.\n",
              "// This uses a Promise to block the python side on completion of each step,\n",
              "// then passes the result of the previous step as the input to the next step.\n",
              "function _uploadFilesContinue(outputId) {\n",
              "  const outputElement = document.getElementById(outputId);\n",
              "  const steps = outputElement.steps;\n",
              "\n",
              "  const next = steps.next(outputElement.lastPromiseValue);\n",
              "  return Promise.resolve(next.value.promise).then((value) => {\n",
              "    // Cache the last promise value to make it available to the next\n",
              "    // step of the generator.\n",
              "    outputElement.lastPromiseValue = value;\n",
              "    return next.value.response;\n",
              "  });\n",
              "}\n",
              "\n",
              "/**\n",
              " * Generator function which is called between each async step of the upload\n",
              " * process.\n",
              " * @param {string} inputId Element ID of the input file picker element.\n",
              " * @param {string} outputId Element ID of the output display.\n",
              " * @return {!Iterable<!Object>} Iterable of next steps.\n",
              " */\n",
              "function* uploadFilesStep(inputId, outputId) {\n",
              "  const inputElement = document.getElementById(inputId);\n",
              "  inputElement.disabled = false;\n",
              "\n",
              "  const outputElement = document.getElementById(outputId);\n",
              "  outputElement.innerHTML = '';\n",
              "\n",
              "  const pickedPromise = new Promise((resolve) => {\n",
              "    inputElement.addEventListener('change', (e) => {\n",
              "      resolve(e.target.files);\n",
              "    });\n",
              "  });\n",
              "\n",
              "  const cancel = document.createElement('button');\n",
              "  inputElement.parentElement.appendChild(cancel);\n",
              "  cancel.textContent = 'Cancel upload';\n",
              "  const cancelPromise = new Promise((resolve) => {\n",
              "    cancel.onclick = () => {\n",
              "      resolve(null);\n",
              "    };\n",
              "  });\n",
              "\n",
              "  // Wait for the user to pick the files.\n",
              "  const files = yield {\n",
              "    promise: Promise.race([pickedPromise, cancelPromise]),\n",
              "    response: {\n",
              "      action: 'starting',\n",
              "    }\n",
              "  };\n",
              "\n",
              "  cancel.remove();\n",
              "\n",
              "  // Disable the input element since further picks are not allowed.\n",
              "  inputElement.disabled = true;\n",
              "\n",
              "  if (!files) {\n",
              "    return {\n",
              "      response: {\n",
              "        action: 'complete',\n",
              "      }\n",
              "    };\n",
              "  }\n",
              "\n",
              "  for (const file of files) {\n",
              "    const li = document.createElement('li');\n",
              "    li.append(span(file.name, {fontWeight: 'bold'}));\n",
              "    li.append(span(\n",
              "        `(${file.type || 'n/a'}) - ${file.size} bytes, ` +\n",
              "        `last modified: ${\n",
              "            file.lastModifiedDate ? file.lastModifiedDate.toLocaleDateString() :\n",
              "                                    'n/a'} - `));\n",
              "    const percent = span('0% done');\n",
              "    li.appendChild(percent);\n",
              "\n",
              "    outputElement.appendChild(li);\n",
              "\n",
              "    const fileDataPromise = new Promise((resolve) => {\n",
              "      const reader = new FileReader();\n",
              "      reader.onload = (e) => {\n",
              "        resolve(e.target.result);\n",
              "      };\n",
              "      reader.readAsArrayBuffer(file);\n",
              "    });\n",
              "    // Wait for the data to be ready.\n",
              "    let fileData = yield {\n",
              "      promise: fileDataPromise,\n",
              "      response: {\n",
              "        action: 'continue',\n",
              "      }\n",
              "    };\n",
              "\n",
              "    // Use a chunked sending to avoid message size limits. See b/62115660.\n",
              "    let position = 0;\n",
              "    do {\n",
              "      const length = Math.min(fileData.byteLength - position, MAX_PAYLOAD_SIZE);\n",
              "      const chunk = new Uint8Array(fileData, position, length);\n",
              "      position += length;\n",
              "\n",
              "      const base64 = btoa(String.fromCharCode.apply(null, chunk));\n",
              "      yield {\n",
              "        response: {\n",
              "          action: 'append',\n",
              "          file: file.name,\n",
              "          data: base64,\n",
              "        },\n",
              "      };\n",
              "\n",
              "      let percentDone = fileData.byteLength === 0 ?\n",
              "          100 :\n",
              "          Math.round((position / fileData.byteLength) * 100);\n",
              "      percent.textContent = `${percentDone}% done`;\n",
              "\n",
              "    } while (position < fileData.byteLength);\n",
              "  }\n",
              "\n",
              "  // All done.\n",
              "  yield {\n",
              "    response: {\n",
              "      action: 'complete',\n",
              "    }\n",
              "  };\n",
              "}\n",
              "\n",
              "scope.google = scope.google || {};\n",
              "scope.google.colab = scope.google.colab || {};\n",
              "scope.google.colab._files = {\n",
              "  _uploadFiles,\n",
              "  _uploadFilesContinue,\n",
              "};\n",
              "})(self);\n",
              "</script> "
            ]
          },
          "metadata": {}
        },
        {
          "output_type": "stream",
          "name": "stdout",
          "text": [
            "Saving mnist_train_small.csv to mnist_train_small.csv\n",
            "📊 Dataset carregado com sucesso!\n",
            "Dimensões do dataset: (19999, 785)\n",
            "\n",
            "🔍 Primeiras 5 linhas:\n"
          ]
        },
        {
          "output_type": "display_data",
          "data": {
            "text/plain": [
              "   6  0  0.1  0.2  0.3  0.4  0.5  0.6  0.7  0.8  ...  0.581  0.582  0.583  \\\n",
              "0  5  0    0    0    0    0    0    0    0    0  ...      0      0      0   \n",
              "1  7  0    0    0    0    0    0    0    0    0  ...      0      0      0   \n",
              "2  9  0    0    0    0    0    0    0    0    0  ...      0      0      0   \n",
              "3  5  0    0    0    0    0    0    0    0    0  ...      0      0      0   \n",
              "4  2  0    0    0    0    0    0    0    0    0  ...      0      0      0   \n",
              "\n",
              "   0.584  0.585  0.586  0.587  0.588  0.589  0.590  \n",
              "0      0      0      0      0      0      0      0  \n",
              "1      0      0      0      0      0      0      0  \n",
              "2      0      0      0      0      0      0      0  \n",
              "3      0      0      0      0      0      0      0  \n",
              "4      0      0      0      0      0      0      0  \n",
              "\n",
              "[5 rows x 785 columns]"
            ],
            "text/html": [
              "\n",
              "  <div id=\"df-808797c1-5cbe-4915-9859-fb4e906a2748\" class=\"colab-df-container\">\n",
              "    <div>\n",
              "<style scoped>\n",
              "    .dataframe tbody tr th:only-of-type {\n",
              "        vertical-align: middle;\n",
              "    }\n",
              "\n",
              "    .dataframe tbody tr th {\n",
              "        vertical-align: top;\n",
              "    }\n",
              "\n",
              "    .dataframe thead th {\n",
              "        text-align: right;\n",
              "    }\n",
              "</style>\n",
              "<table border=\"1\" class=\"dataframe\">\n",
              "  <thead>\n",
              "    <tr style=\"text-align: right;\">\n",
              "      <th></th>\n",
              "      <th>6</th>\n",
              "      <th>0</th>\n",
              "      <th>0.1</th>\n",
              "      <th>0.2</th>\n",
              "      <th>0.3</th>\n",
              "      <th>0.4</th>\n",
              "      <th>0.5</th>\n",
              "      <th>0.6</th>\n",
              "      <th>0.7</th>\n",
              "      <th>0.8</th>\n",
              "      <th>...</th>\n",
              "      <th>0.581</th>\n",
              "      <th>0.582</th>\n",
              "      <th>0.583</th>\n",
              "      <th>0.584</th>\n",
              "      <th>0.585</th>\n",
              "      <th>0.586</th>\n",
              "      <th>0.587</th>\n",
              "      <th>0.588</th>\n",
              "      <th>0.589</th>\n",
              "      <th>0.590</th>\n",
              "    </tr>\n",
              "  </thead>\n",
              "  <tbody>\n",
              "    <tr>\n",
              "      <th>0</th>\n",
              "      <td>5</td>\n",
              "      <td>0</td>\n",
              "      <td>0</td>\n",
              "      <td>0</td>\n",
              "      <td>0</td>\n",
              "      <td>0</td>\n",
              "      <td>0</td>\n",
              "      <td>0</td>\n",
              "      <td>0</td>\n",
              "      <td>0</td>\n",
              "      <td>...</td>\n",
              "      <td>0</td>\n",
              "      <td>0</td>\n",
              "      <td>0</td>\n",
              "      <td>0</td>\n",
              "      <td>0</td>\n",
              "      <td>0</td>\n",
              "      <td>0</td>\n",
              "      <td>0</td>\n",
              "      <td>0</td>\n",
              "      <td>0</td>\n",
              "    </tr>\n",
              "    <tr>\n",
              "      <th>1</th>\n",
              "      <td>7</td>\n",
              "      <td>0</td>\n",
              "      <td>0</td>\n",
              "      <td>0</td>\n",
              "      <td>0</td>\n",
              "      <td>0</td>\n",
              "      <td>0</td>\n",
              "      <td>0</td>\n",
              "      <td>0</td>\n",
              "      <td>0</td>\n",
              "      <td>...</td>\n",
              "      <td>0</td>\n",
              "      <td>0</td>\n",
              "      <td>0</td>\n",
              "      <td>0</td>\n",
              "      <td>0</td>\n",
              "      <td>0</td>\n",
              "      <td>0</td>\n",
              "      <td>0</td>\n",
              "      <td>0</td>\n",
              "      <td>0</td>\n",
              "    </tr>\n",
              "    <tr>\n",
              "      <th>2</th>\n",
              "      <td>9</td>\n",
              "      <td>0</td>\n",
              "      <td>0</td>\n",
              "      <td>0</td>\n",
              "      <td>0</td>\n",
              "      <td>0</td>\n",
              "      <td>0</td>\n",
              "      <td>0</td>\n",
              "      <td>0</td>\n",
              "      <td>0</td>\n",
              "      <td>...</td>\n",
              "      <td>0</td>\n",
              "      <td>0</td>\n",
              "      <td>0</td>\n",
              "      <td>0</td>\n",
              "      <td>0</td>\n",
              "      <td>0</td>\n",
              "      <td>0</td>\n",
              "      <td>0</td>\n",
              "      <td>0</td>\n",
              "      <td>0</td>\n",
              "    </tr>\n",
              "    <tr>\n",
              "      <th>3</th>\n",
              "      <td>5</td>\n",
              "      <td>0</td>\n",
              "      <td>0</td>\n",
              "      <td>0</td>\n",
              "      <td>0</td>\n",
              "      <td>0</td>\n",
              "      <td>0</td>\n",
              "      <td>0</td>\n",
              "      <td>0</td>\n",
              "      <td>0</td>\n",
              "      <td>...</td>\n",
              "      <td>0</td>\n",
              "      <td>0</td>\n",
              "      <td>0</td>\n",
              "      <td>0</td>\n",
              "      <td>0</td>\n",
              "      <td>0</td>\n",
              "      <td>0</td>\n",
              "      <td>0</td>\n",
              "      <td>0</td>\n",
              "      <td>0</td>\n",
              "    </tr>\n",
              "    <tr>\n",
              "      <th>4</th>\n",
              "      <td>2</td>\n",
              "      <td>0</td>\n",
              "      <td>0</td>\n",
              "      <td>0</td>\n",
              "      <td>0</td>\n",
              "      <td>0</td>\n",
              "      <td>0</td>\n",
              "      <td>0</td>\n",
              "      <td>0</td>\n",
              "      <td>0</td>\n",
              "      <td>...</td>\n",
              "      <td>0</td>\n",
              "      <td>0</td>\n",
              "      <td>0</td>\n",
              "      <td>0</td>\n",
              "      <td>0</td>\n",
              "      <td>0</td>\n",
              "      <td>0</td>\n",
              "      <td>0</td>\n",
              "      <td>0</td>\n",
              "      <td>0</td>\n",
              "    </tr>\n",
              "  </tbody>\n",
              "</table>\n",
              "<p>5 rows × 785 columns</p>\n",
              "</div>\n",
              "    <div class=\"colab-df-buttons\">\n",
              "\n",
              "  <div class=\"colab-df-container\">\n",
              "    <button class=\"colab-df-convert\" onclick=\"convertToInteractive('df-808797c1-5cbe-4915-9859-fb4e906a2748')\"\n",
              "            title=\"Convert this dataframe to an interactive table.\"\n",
              "            style=\"display:none;\">\n",
              "\n",
              "  <svg xmlns=\"http://www.w3.org/2000/svg\" height=\"24px\" viewBox=\"0 -960 960 960\">\n",
              "    <path d=\"M120-120v-720h720v720H120Zm60-500h600v-160H180v160Zm220 220h160v-160H400v160Zm0 220h160v-160H400v160ZM180-400h160v-160H180v160Zm440 0h160v-160H620v160ZM180-180h160v-160H180v160Zm440 0h160v-160H620v160Z\"/>\n",
              "  </svg>\n",
              "    </button>\n",
              "\n",
              "  <style>\n",
              "    .colab-df-container {\n",
              "      display:flex;\n",
              "      gap: 12px;\n",
              "    }\n",
              "\n",
              "    .colab-df-convert {\n",
              "      background-color: #E8F0FE;\n",
              "      border: none;\n",
              "      border-radius: 50%;\n",
              "      cursor: pointer;\n",
              "      display: none;\n",
              "      fill: #1967D2;\n",
              "      height: 32px;\n",
              "      padding: 0 0 0 0;\n",
              "      width: 32px;\n",
              "    }\n",
              "\n",
              "    .colab-df-convert:hover {\n",
              "      background-color: #E2EBFA;\n",
              "      box-shadow: 0px 1px 2px rgba(60, 64, 67, 0.3), 0px 1px 3px 1px rgba(60, 64, 67, 0.15);\n",
              "      fill: #174EA6;\n",
              "    }\n",
              "\n",
              "    .colab-df-buttons div {\n",
              "      margin-bottom: 4px;\n",
              "    }\n",
              "\n",
              "    [theme=dark] .colab-df-convert {\n",
              "      background-color: #3B4455;\n",
              "      fill: #D2E3FC;\n",
              "    }\n",
              "\n",
              "    [theme=dark] .colab-df-convert:hover {\n",
              "      background-color: #434B5C;\n",
              "      box-shadow: 0px 1px 3px 1px rgba(0, 0, 0, 0.15);\n",
              "      filter: drop-shadow(0px 1px 2px rgba(0, 0, 0, 0.3));\n",
              "      fill: #FFFFFF;\n",
              "    }\n",
              "  </style>\n",
              "\n",
              "    <script>\n",
              "      const buttonEl =\n",
              "        document.querySelector('#df-808797c1-5cbe-4915-9859-fb4e906a2748 button.colab-df-convert');\n",
              "      buttonEl.style.display =\n",
              "        google.colab.kernel.accessAllowed ? 'block' : 'none';\n",
              "\n",
              "      async function convertToInteractive(key) {\n",
              "        const element = document.querySelector('#df-808797c1-5cbe-4915-9859-fb4e906a2748');\n",
              "        const dataTable =\n",
              "          await google.colab.kernel.invokeFunction('convertToInteractive',\n",
              "                                                    [key], {});\n",
              "        if (!dataTable) return;\n",
              "\n",
              "        const docLinkHtml = 'Like what you see? Visit the ' +\n",
              "          '<a target=\"_blank\" href=https://colab.research.google.com/notebooks/data_table.ipynb>data table notebook</a>'\n",
              "          + ' to learn more about interactive tables.';\n",
              "        element.innerHTML = '';\n",
              "        dataTable['output_type'] = 'display_data';\n",
              "        await google.colab.output.renderOutput(dataTable, element);\n",
              "        const docLink = document.createElement('div');\n",
              "        docLink.innerHTML = docLinkHtml;\n",
              "        element.appendChild(docLink);\n",
              "      }\n",
              "    </script>\n",
              "  </div>\n",
              "\n",
              "\n",
              "    <div id=\"df-f0b20f68-e9f9-4f9a-8424-155e784dedab\">\n",
              "      <button class=\"colab-df-quickchart\" onclick=\"quickchart('df-f0b20f68-e9f9-4f9a-8424-155e784dedab')\"\n",
              "                title=\"Suggest charts\"\n",
              "                style=\"display:none;\">\n",
              "\n",
              "<svg xmlns=\"http://www.w3.org/2000/svg\" height=\"24px\"viewBox=\"0 0 24 24\"\n",
              "     width=\"24px\">\n",
              "    <g>\n",
              "        <path d=\"M19 3H5c-1.1 0-2 .9-2 2v14c0 1.1.9 2 2 2h14c1.1 0 2-.9 2-2V5c0-1.1-.9-2-2-2zM9 17H7v-7h2v7zm4 0h-2V7h2v10zm4 0h-2v-4h2v4z\"/>\n",
              "    </g>\n",
              "</svg>\n",
              "      </button>\n",
              "\n",
              "<style>\n",
              "  .colab-df-quickchart {\n",
              "      --bg-color: #E8F0FE;\n",
              "      --fill-color: #1967D2;\n",
              "      --hover-bg-color: #E2EBFA;\n",
              "      --hover-fill-color: #174EA6;\n",
              "      --disabled-fill-color: #AAA;\n",
              "      --disabled-bg-color: #DDD;\n",
              "  }\n",
              "\n",
              "  [theme=dark] .colab-df-quickchart {\n",
              "      --bg-color: #3B4455;\n",
              "      --fill-color: #D2E3FC;\n",
              "      --hover-bg-color: #434B5C;\n",
              "      --hover-fill-color: #FFFFFF;\n",
              "      --disabled-bg-color: #3B4455;\n",
              "      --disabled-fill-color: #666;\n",
              "  }\n",
              "\n",
              "  .colab-df-quickchart {\n",
              "    background-color: var(--bg-color);\n",
              "    border: none;\n",
              "    border-radius: 50%;\n",
              "    cursor: pointer;\n",
              "    display: none;\n",
              "    fill: var(--fill-color);\n",
              "    height: 32px;\n",
              "    padding: 0;\n",
              "    width: 32px;\n",
              "  }\n",
              "\n",
              "  .colab-df-quickchart:hover {\n",
              "    background-color: var(--hover-bg-color);\n",
              "    box-shadow: 0 1px 2px rgba(60, 64, 67, 0.3), 0 1px 3px 1px rgba(60, 64, 67, 0.15);\n",
              "    fill: var(--button-hover-fill-color);\n",
              "  }\n",
              "\n",
              "  .colab-df-quickchart-complete:disabled,\n",
              "  .colab-df-quickchart-complete:disabled:hover {\n",
              "    background-color: var(--disabled-bg-color);\n",
              "    fill: var(--disabled-fill-color);\n",
              "    box-shadow: none;\n",
              "  }\n",
              "\n",
              "  .colab-df-spinner {\n",
              "    border: 2px solid var(--fill-color);\n",
              "    border-color: transparent;\n",
              "    border-bottom-color: var(--fill-color);\n",
              "    animation:\n",
              "      spin 1s steps(1) infinite;\n",
              "  }\n",
              "\n",
              "  @keyframes spin {\n",
              "    0% {\n",
              "      border-color: transparent;\n",
              "      border-bottom-color: var(--fill-color);\n",
              "      border-left-color: var(--fill-color);\n",
              "    }\n",
              "    20% {\n",
              "      border-color: transparent;\n",
              "      border-left-color: var(--fill-color);\n",
              "      border-top-color: var(--fill-color);\n",
              "    }\n",
              "    30% {\n",
              "      border-color: transparent;\n",
              "      border-left-color: var(--fill-color);\n",
              "      border-top-color: var(--fill-color);\n",
              "      border-right-color: var(--fill-color);\n",
              "    }\n",
              "    40% {\n",
              "      border-color: transparent;\n",
              "      border-right-color: var(--fill-color);\n",
              "      border-top-color: var(--fill-color);\n",
              "    }\n",
              "    60% {\n",
              "      border-color: transparent;\n",
              "      border-right-color: var(--fill-color);\n",
              "    }\n",
              "    80% {\n",
              "      border-color: transparent;\n",
              "      border-right-color: var(--fill-color);\n",
              "      border-bottom-color: var(--fill-color);\n",
              "    }\n",
              "    90% {\n",
              "      border-color: transparent;\n",
              "      border-bottom-color: var(--fill-color);\n",
              "    }\n",
              "  }\n",
              "</style>\n",
              "\n",
              "      <script>\n",
              "        async function quickchart(key) {\n",
              "          const quickchartButtonEl =\n",
              "            document.querySelector('#' + key + ' button');\n",
              "          quickchartButtonEl.disabled = true;  // To prevent multiple clicks.\n",
              "          quickchartButtonEl.classList.add('colab-df-spinner');\n",
              "          try {\n",
              "            const charts = await google.colab.kernel.invokeFunction(\n",
              "                'suggestCharts', [key], {});\n",
              "          } catch (error) {\n",
              "            console.error('Error during call to suggestCharts:', error);\n",
              "          }\n",
              "          quickchartButtonEl.classList.remove('colab-df-spinner');\n",
              "          quickchartButtonEl.classList.add('colab-df-quickchart-complete');\n",
              "        }\n",
              "        (() => {\n",
              "          let quickchartButtonEl =\n",
              "            document.querySelector('#df-f0b20f68-e9f9-4f9a-8424-155e784dedab button');\n",
              "          quickchartButtonEl.style.display =\n",
              "            google.colab.kernel.accessAllowed ? 'block' : 'none';\n",
              "        })();\n",
              "      </script>\n",
              "    </div>\n",
              "\n",
              "    </div>\n",
              "  </div>\n"
            ],
            "application/vnd.google.colaboratory.intrinsic+json": {
              "type": "dataframe"
            }
          },
          "metadata": {}
        }
      ]
    },
    {
      "cell_type": "code",
      "source": [
        "print(\"📋 Informações do dataset:\")\n",
        "df.info()\n",
        "\n",
        "print(\"\\n🎯 Verificação de valores nulos:\")\n",
        "print(df.isnull().sum().sum())\n",
        "\n",
        "X = df.iloc[:, 1:].values\n",
        "y = df.iloc[:, 0].values\n",
        "\n",
        "print(f\"\\n📐 Dimensões após separação:\")\n",
        "print(f\"X: {X.shape}, y: {y.shape}\")\n",
        "print(f\"Valores únicos em y: {np.unique(y)}\")"
      ],
      "metadata": {
        "colab": {
          "base_uri": "https://localhost:8080/"
        },
        "id": "3vVAx-mziBnM",
        "outputId": "7b8d5515-9d2a-467e-9575-d62aa0bedf74"
      },
      "execution_count": null,
      "outputs": [
        {
          "output_type": "stream",
          "name": "stdout",
          "text": [
            "📋 Informações do dataset:\n",
            "<class 'pandas.core.frame.DataFrame'>\n",
            "RangeIndex: 19999 entries, 0 to 19998\n",
            "Columns: 785 entries, 6 to 0.590\n",
            "dtypes: int64(785)\n",
            "memory usage: 119.8 MB\n",
            "\n",
            "🎯 Verificação de valores nulos:\n",
            "0\n",
            "\n",
            "📐 Dimensões após separação:\n",
            "X: (19999, 784), y: (19999,)\n",
            "Valores únicos em y: [0 1 2 3 4 5 6 7 8 9]\n"
          ]
        }
      ]
    },
    {
      "cell_type": "code",
      "source": [
        "print(\"👀 Visualizando amostras do dataset:\")\n",
        "\n",
        "plt.figure(figsize=(12, 6))\n",
        "\n",
        "# Mostra os primeiros 10 dígitos\n",
        "for i in range(10):\n",
        "    plt.subplot(2, 5, i + 1)\n",
        "\n",
        "    # Reshape para 28x28 e mostra a imagem\n",
        "    digit_image = X[i].reshape(28, 28)\n",
        "    plt.imshow(digit_image, cmap='gray')\n",
        "    plt.title(f'Label: {y[i]}')\n",
        "    plt.axis('off')\n",
        "\n",
        "plt.tight_layout()\n",
        "plt.show()"
      ],
      "metadata": {
        "colab": {
          "base_uri": "https://localhost:8080/",
          "height": 548
        },
        "id": "hz3m4n57iJu0",
        "outputId": "76622091-b24a-494a-ee36-3af724065ee6"
      },
      "execution_count": null,
      "outputs": [
        {
          "output_type": "stream",
          "name": "stdout",
          "text": [
            "👀 Visualizando amostras do dataset:\n"
          ]
        },
        {
          "output_type": "display_data",
          "data": {
            "text/plain": [
              "<Figure size 1200x600 with 10 Axes>"
            ],
            "image/png": "[encoded data removed]"
          },
          "metadata": {}
        }
      ]
    },
    {
      "cell_type": "code",
      "source": [
        "print(\"📊 Análise da distribuição dos dígitos:\")\n",
        "\n",
        "\n",
        "plt.figure(figsize=(10, 5))\n",
        "\n",
        "plt.subplot(1, 2, 1)\n",
        "sns.countplot(x=y)\n",
        "plt.title('Distribuição dos Dígitos')\n",
        "plt.xlabel('Dígito')\n",
        "plt.ylabel('Contagem')\n",
        "\n",
        "plt.subplot(1, 2, 2)\n",
        "# Calculo de porcentagens\n",
        "value_counts = pd.Series(y).value_counts().sort_index()\n",
        "plt.pie(value_counts, labels=value_counts.index, autopct='%1.1f%%')\n",
        "plt.title('Distribuição Percentual')\n",
        "\n",
        "plt.tight_layout()\n",
        "plt.show()\n",
        "\n",
        "print(\"\\n📈 Contagem por dígito:\")\n",
        "for digit, count in value_counts.items():\n",
        "    print(f\"Dígito {digit}: {count} amostras ({count/len(y)*100:.1f}%)\")"
      ],
      "metadata": {
        "colab": {
          "base_uri": "https://localhost:8080/",
          "height": 733
        },
        "id": "CJiQucJriY-c",
        "outputId": "8af73dfc-d753-494f-e403-b9db919edba6"
      },
      "execution_count": null,
      "outputs": [
        {
          "output_type": "stream",
          "name": "stdout",
          "text": [
            "📊 Análise da distribuição dos dígitos:\n"
          ]
        },
        {
          "output_type": "display_data",
          "data": {
            "text/plain": [
              "<Figure size 1000x500 with 2 Axes>"
            ],
            "image/png": "[encoded data removed]"
          },
          "metadata": {}
        },
        {
          "output_type": "stream",
          "name": "stdout",
          "text": [
            "\n",
            "📈 Contagem por dígito:\n",
            "Dígito 0: 1962 amostras (9.8%)\n",
            "Dígito 1: 2243 amostras (11.2%)\n",
            "Dígito 2: 1989 amostras (9.9%)\n",
            "Dígito 3: 2021 amostras (10.1%)\n",
            "Dígito 4: 1924 amostras (9.6%)\n",
            "Dígito 5: 1761 amostras (8.8%)\n",
            "Dígito 6: 2038 amostras (10.2%)\n",
            "Dígito 7: 2126 amostras (10.6%)\n",
            "Dígito 8: 1912 amostras (9.6%)\n",
            "Dígito 9: 2023 amostras (10.1%)\n"
          ]
        }
      ]
    },
    {
      "cell_type": "code",
      "source": [
        "print(\"🎨 Análise de intensidade dos pixels:\")\n",
        "\n",
        "# Calculo de estatísticas de intensidade\n",
        "pixel_stats = {\n",
        "    'Mínimo': X.min(),\n",
        "    'Máximo': X.max(),\n",
        "    'Médio': X.mean(),\n",
        "    'Desvio Padrão': X.std()\n",
        "}\n",
        "\n",
        "print(\"📊 Estatísticas dos pixels:\")\n",
        "for stat, value in pixel_stats.items():\n",
        "    print(f\"{stat}: {value:.2f}\")\n",
        "\n",
        "# Histograma de intensidades\n",
        "plt.figure(figsize=(10, 4))\n",
        "plt.hist(X.flatten(), bins=50, alpha=0.7, color='skyblue', edgecolor='black')\n",
        "plt.title('Distribuição das Intensidades dos Pixels')\n",
        "plt.xlabel('Intensidade do Pixel')\n",
        "plt.ylabel('Frequência')\n",
        "plt.grid(True, alpha=0.3)\n",
        "plt.show()"
      ],
      "metadata": {
        "colab": {
          "base_uri": "https://localhost:8080/",
          "height": 519
        },
        "id": "a351OcqdijtT",
        "outputId": "8a2f3fdd-8c45-42cd-b63a-2955ff5c13c3"
      },
      "execution_count": null,
      "outputs": [
        {
          "output_type": "stream",
          "name": "stdout",
          "text": [
            "🎨 Análise de intensidade dos pixels:\n",
            "📊 Estatísticas dos pixels:\n",
            "Mínimo: 0.00\n",
            "Máximo: 255.00\n",
            "Médio: 33.33\n",
            "Desvio Padrão: 78.60\n"
          ]
        },
        {
          "output_type": "display_data",
          "data": {
            "text/plain": [
              "<Figure size 1000x400 with 1 Axes>"
            ],
            "image/png": "[encoded data removed]"
          },
          "metadata": {}
        }
      ]
    },
    {
      "cell_type": "code",
      "source": [
        "print(\"🔄 Pré-processamento dos dados...\")\n",
        "\n",
        "# Normaliza os pixels para [0, 1]\n",
        "X_normalized = X / 255.0\n",
        "\n",
        "# Divisão para treino e teste\n",
        "X_train, X_test, y_train, y_test = train_test_split(\n",
        "    X_normalized, y, test_size=0.2, random_state=42, stratify=y\n",
        ")\n",
        "\n",
        "print(\"✅ Pré-processamento concluído!\")\n",
        "print(f\"📐 Dimensões finais:\")\n",
        "print(f\"X_train: {X_train.shape}, y_train: {y_train.shape}\")\n",
        "print(f\"X_test: {X_test.shape}, y_test: {y_test.shape}\")\n",
        "\n",
        "# Verifica a distribuição após split\n",
        "print(f\"\\n📊 Distribuição no conjunto de treino:\")\n",
        "train_dist = pd.Series(y_train).value_counts().sort_index()\n",
        "for digit, count in train_dist.items():\n",
        "    print(f\"Dígito {digit}: {count} amostras\")"
      ],
      "metadata": {
        "colab": {
          "base_uri": "https://localhost:8080/"
        },
        "id": "3Tu8KprciseB",
        "outputId": "91599e00-0394-418f-c4f9-a772cf9978bf"
      },
      "execution_count": null,
      "outputs": [
        {
          "output_type": "stream",
          "name": "stdout",
          "text": [
            "🔄 Pré-processamento dos dados...\n",
            "✅ Pré-processamento concluído!\n",
            "📐 Dimensões finais:\n",
            "X_train: (15999, 784), y_train: (15999,)\n",
            "X_test: (4000, 784), y_test: (4000,)\n",
            "\n",
            "📊 Distribuição no conjunto de treino:\n",
            "Dígito 0: 1570 amostras\n",
            "Dígito 1: 1794 amostras\n",
            "Dígito 2: 1591 amostras\n",
            "Dígito 3: 1617 amostras\n",
            "Dígito 4: 1539 amostras\n",
            "Dígito 5: 1409 amostras\n",
            "Dígito 6: 1630 amostras\n",
            "Dígito 7: 1701 amostras\n",
            "Dígito 8: 1530 amostras\n",
            "Dígito 9: 1618 amostras\n"
          ]
        }
      ]
    },
    {
      "cell_type": "code",
      "source": [
        "print(\"🏗️ Construindo o modelo de rede neural...\")\n",
        "\n",
        "model = Sequential([\n",
        "    Dense(128, activation='relu', input_shape=(784,)),\n",
        "    Dropout(0.3),\n",
        "    Dense(64, activation='relu'),\n",
        "    Dropout(0.3),\n",
        "    Dense(32, activation='relu'),\n",
        "    Dense(10, activation='softmax')\n",
        "])\n",
        "\n",
        "model.compile(\n",
        "    optimizer='adam',\n",
        "    loss='sparse_categorical_crossentropy',\n",
        "    metrics=['accuracy']\n",
        ")\n",
        "\n",
        "print(\"📋 Resumo do modelo:\")\n",
        "model.summary()"
      ],
      "metadata": {
        "colab": {
          "base_uri": "https://localhost:8080/",
          "height": 410
        },
        "id": "9lEGEY-4i6Hp",
        "outputId": "8a010625-bcfa-430f-9e7d-1428d1fc9ed9"
      },
      "execution_count": null,
      "outputs": [
        {
          "output_type": "stream",
          "name": "stdout",
          "text": [
            "🏗️ Construindo o modelo de rede neural...\n"
          ]
        },
        {
          "output_type": "stream",
          "name": "stderr",
          "text": [
            "/usr/local/lib/python3.12/dist-packages/keras/src/layers/core/dense.py:93: UserWarning: Do not pass an `input_shape`/`input_dim` argument to a layer. When using Sequential models, prefer using an `Input(shape)` object as the first layer in the model instead.\n",
            "  super().__init__(activity_regularizer=activity_regularizer, **kwargs)\n"
          ]
        },
        {
          "output_type": "stream",
          "name": "stdout",
          "text": [
            "📋 Resumo do modelo:\n"
          ]
        },
        {
          "output_type": "display_data",
          "data": {
            "text/plain": [
              "\u001b[1mModel: \"sequential\"\u001b[0m\n"
            ],
            "text/html": [
              "<pre style=\"white-space:pre;overflow-x:auto;line-height:normal;font-family:Menlo,'DejaVu Sans Mono',consolas,'Courier New',monospace\"><span style=\"font-weight: bold\">Model: \"sequential\"</span>\n",
              "</pre>\n"
            ]
          },
          "metadata": {}
        },
        {
          "output_type": "display_data",
          "data": {
            "text/plain": [
              "┏━━━━━━━━━━━━━━━━━━━━━━━━━━━━━━━━━┳━━━━━━━━━━━━━━━━━━━━━━━━┳━━━━━━━━━━━━━━━┓\n",
              "┃\u001b[1m \u001b[0m\u001b[1mLayer (type)                   \u001b[0m\u001b[1m \u001b[0m┃\u001b[1m \u001b[0m\u001b[1mOutput Shape          \u001b[0m\u001b[1m \u001b[0m┃\u001b[1m \u001b[0m\u001b[1m      Param #\u001b[0m\u001b[1m \u001b[0m┃\n",
              "┡━━━━━━━━━━━━━━━━━━━━━━━━━━━━━━━━━╇━━━━━━━━━━━━━━━━━━━━━━━━╇━━━━━━━━━━━━━━━┩\n",
              "│ dense (\u001b[38;5;33mDense\u001b[0m)                   │ (\u001b[38;5;45mNone\u001b[0m, \u001b[38;5;34m128\u001b[0m)            │       \u001b[38;5;34m100,480\u001b[0m │\n",
              "├─────────────────────────────────┼────────────────────────┼───────────────┤\n",
              "│ dropout (\u001b[38;5;33mDropout\u001b[0m)               │ (\u001b[38;5;45mNone\u001b[0m, \u001b[38;5;34m128\u001b[0m)            │             \u001b[38;5;34m0\u001b[0m │\n",
              "├─────────────────────────────────┼────────────────────────┼───────────────┤\n",
              "│ dense_1 (\u001b[38;5;33mDense\u001b[0m)                 │ (\u001b[38;5;45mNone\u001b[0m, \u001b[38;5;34m64\u001b[0m)             │         \u001b[38;5;34m8,256\u001b[0m │\n",
              "├─────────────────────────────────┼────────────────────────┼───────────────┤\n",
              "│ dropout_1 (\u001b[38;5;33mDropout\u001b[0m)             │ (\u001b[38;5;45mNone\u001b[0m, \u001b[38;5;34m64\u001b[0m)             │             \u001b[38;5;34m0\u001b[0m │\n",
              "├─────────────────────────────────┼────────────────────────┼───────────────┤\n",
              "│ dense_2 (\u001b[38;5;33mDense\u001b[0m)                 │ (\u001b[38;5;45mNone\u001b[0m, \u001b[38;5;34m32\u001b[0m)             │         \u001b[38;5;34m2,080\u001b[0m │\n",
              "├─────────────────────────────────┼────────────────────────┼───────────────┤\n",
              "│ dense_3 (\u001b[38;5;33mDense\u001b[0m)                 │ (\u001b[38;5;45mNone\u001b[0m, \u001b[38;5;34m10\u001b[0m)             │           \u001b[38;5;34m330\u001b[0m │\n",
              "└─────────────────────────────────┴────────────────────────┴───────────────┘\n"
            ],
            "text/html": [
              "<pre style=\"white-space:pre;overflow-x:auto;line-height:normal;font-family:Menlo,'DejaVu Sans Mono',consolas,'Courier New',monospace\">┏━━━━━━━━━━━━━━━━━━━━━━━━━━━━━━━━━┳━━━━━━━━━━━━━━━━━━━━━━━━┳━━━━━━━━━━━━━━━┓\n",
              "┃<span style=\"font-weight: bold\"> Layer (type)                    </span>┃<span style=\"font-weight: bold\"> Output Shape           </span>┃<span style=\"font-weight: bold\">       Param # </span>┃\n",
              "┡━━━━━━━━━━━━━━━━━━━━━━━━━━━━━━━━━╇━━━━━━━━━━━━━━━━━━━━━━━━╇━━━━━━━━━━━━━━━┩\n",
              "│ dense (<span style=\"color: #0087ff; text-decoration-color: #0087ff\">Dense</span>)                   │ (<span style=\"color: #00d7ff; text-decoration-color: #00d7ff\">None</span>, <span style=\"color: #00af00; text-decoration-color: #00af00\">128</span>)            │       <span style=\"color: #00af00; text-decoration-color: #00af00\">100,480</span> │\n",
              "├─────────────────────────────────┼────────────────────────┼───────────────┤\n",
              "│ dropout (<span style=\"color: #0087ff; text-decoration-color: #0087ff\">Dropout</span>)               │ (<span style=\"color: #00d7ff; text-decoration-color: #00d7ff\">None</span>, <span style=\"color: #00af00; text-decoration-color: #00af00\">128</span>)            │             <span style=\"color: #00af00; text-decoration-color: #00af00\">0</span> │\n",
              "├─────────────────────────────────┼────────────────────────┼───────────────┤\n",
              "│ dense_1 (<span style=\"color: #0087ff; text-decoration-color: #0087ff\">Dense</span>)                 │ (<span style=\"color: #00d7ff; text-decoration-color: #00d7ff\">None</span>, <span style=\"color: #00af00; text-decoration-color: #00af00\">64</span>)             │         <span style=\"color: #00af00; text-decoration-color: #00af00\">8,256</span> │\n",
              "├─────────────────────────────────┼────────────────────────┼───────────────┤\n",
              "│ dropout_1 (<span style=\"color: #0087ff; text-decoration-color: #0087ff\">Dropout</span>)             │ (<span style=\"color: #00d7ff; text-decoration-color: #00d7ff\">None</span>, <span style=\"color: #00af00; text-decoration-color: #00af00\">64</span>)             │             <span style=\"color: #00af00; text-decoration-color: #00af00\">0</span> │\n",
              "├─────────────────────────────────┼────────────────────────┼───────────────┤\n",
              "│ dense_2 (<span style=\"color: #0087ff; text-decoration-color: #0087ff\">Dense</span>)                 │ (<span style=\"color: #00d7ff; text-decoration-color: #00d7ff\">None</span>, <span style=\"color: #00af00; text-decoration-color: #00af00\">32</span>)             │         <span style=\"color: #00af00; text-decoration-color: #00af00\">2,080</span> │\n",
              "├─────────────────────────────────┼────────────────────────┼───────────────┤\n",
              "│ dense_3 (<span style=\"color: #0087ff; text-decoration-color: #0087ff\">Dense</span>)                 │ (<span style=\"color: #00d7ff; text-decoration-color: #00d7ff\">None</span>, <span style=\"color: #00af00; text-decoration-color: #00af00\">10</span>)             │           <span style=\"color: #00af00; text-decoration-color: #00af00\">330</span> │\n",
              "└─────────────────────────────────┴────────────────────────┴───────────────┘\n",
              "</pre>\n"
            ]
          },
          "metadata": {}
        },
        {
          "output_type": "display_data",
          "data": {
            "text/plain": [
              "\u001b[1m Total params: \u001b[0m\u001b[38;5;34m111,146\u001b[0m (434.16 KB)\n"
            ],
            "text/html": [
              "<pre style=\"white-space:pre;overflow-x:auto;line-height:normal;font-family:Menlo,'DejaVu Sans Mono',consolas,'Courier New',monospace\"><span style=\"font-weight: bold\"> Total params: </span><span style=\"color: #00af00; text-decoration-color: #00af00\">111,146</span> (434.16 KB)\n",
              "</pre>\n"
            ]
          },
          "metadata": {}
        },
        {
          "output_type": "display_data",
          "data": {
            "text/plain": [
              "\u001b[1m Trainable params: \u001b[0m\u001b[38;5;34m111,146\u001b[0m (434.16 KB)\n"
            ],
            "text/html": [
              "<pre style=\"white-space:pre;overflow-x:auto;line-height:normal;font-family:Menlo,'DejaVu Sans Mono',consolas,'Courier New',monospace\"><span style=\"font-weight: bold\"> Trainable params: </span><span style=\"color: #00af00; text-decoration-color: #00af00\">111,146</span> (434.16 KB)\n",
              "</pre>\n"
            ]
          },
          "metadata": {}
        },
        {
          "output_type": "display_data",
          "data": {
            "text/plain": [
              "\u001b[1m Non-trainable params: \u001b[0m\u001b[38;5;34m0\u001b[0m (0.00 B)\n"
            ],
            "text/html": [
              "<pre style=\"white-space:pre;overflow-x:auto;line-height:normal;font-family:Menlo,'DejaVu Sans Mono',consolas,'Courier New',monospace\"><span style=\"font-weight: bold\"> Non-trainable params: </span><span style=\"color: #00af00; text-decoration-color: #00af00\">0</span> (0.00 B)\n",
              "</pre>\n"
            ]
          },
          "metadata": {}
        }
      ]
    },
    {
      "cell_type": "code",
      "source": [
        "print(\"🎯 Iniciando treinamento do modelo...\")\n",
        "\n",
        "# Treinando o modelo\n",
        "history = model.fit(\n",
        "    X_train, y_train,\n",
        "    epochs=25,\n",
        "    batch_size=32,\n",
        "    validation_split=0.2,\n",
        "    verbose=1\n",
        ")\n",
        "\n",
        "# Avaliação final\n",
        "test_loss, test_accuracy = model.evaluate(X_test, y_test, verbose=0)\n",
        "print(f\"🎊 Acurácia final no conjunto de teste: {test_accuracy:.4f}\")"
      ],
      "metadata": {
        "colab": {
          "base_uri": "https://localhost:8080/"
        },
        "id": "anUHBW1mjEjq",
        "outputId": "93b1d861-8a90-45cb-c0e0-c0d785717231"
      },
      "execution_count": null,
      "outputs": [
        {
          "output_type": "stream",
          "name": "stdout",
          "text": [
            "🎯 Iniciando treinamento do modelo...\n",
            "Epoch 1/25\n",
            "\u001b[1m400/400\u001b[0m \u001b[32m━━━━━━━━━━━━━━━━━━━━\u001b[0m\u001b[37m\u001b[0m \u001b[1m3s\u001b[0m 4ms/step - accuracy: 0.5839 - loss: 1.2700 - val_accuracy: 0.9084 - val_loss: 0.3034\n",
            "Epoch 2/25\n",
            "\u001b[1m400/400\u001b[0m \u001b[32m━━━━━━━━━━━━━━━━━━━━\u001b[0m\u001b[37m\u001b[0m \u001b[1m2s\u001b[0m 4ms/step - accuracy: 0.8918 - loss: 0.3606 - val_accuracy: 0.9312 - val_loss: 0.2230\n",
            "Epoch 3/25\n",
            "\u001b[1m400/400\u001b[0m \u001b[32m━━━━━━━━━━━━━━━━━━━━\u001b[0m\u001b[37m\u001b[0m \u001b[1m2s\u001b[0m 6ms/step - accuracy: 0.9304 - loss: 0.2425 - val_accuracy: 0.9403 - val_loss: 0.1940\n",
            "Epoch 4/25\n",
            "\u001b[1m400/400\u001b[0m \u001b[32m━━━━━━━━━━━━━━━━━━━━\u001b[0m\u001b[37m\u001b[0m \u001b[1m2s\u001b[0m 5ms/step - accuracy: 0.9357 - loss: 0.2277 - val_accuracy: 0.9397 - val_loss: 0.2045\n",
            "Epoch 5/25\n",
            "\u001b[1m400/400\u001b[0m \u001b[32m━━━━━━━━━━━━━━━━━━━━\u001b[0m\u001b[37m\u001b[0m \u001b[1m1s\u001b[0m 4ms/step - accuracy: 0.9443 - loss: 0.1834 - val_accuracy: 0.9447 - val_loss: 0.1688\n",
            "Epoch 6/25\n",
            "\u001b[1m400/400\u001b[0m \u001b[32m━━━━━━━━━━━━━━━━━━━━\u001b[0m\u001b[37m\u001b[0m \u001b[1m1s\u001b[0m 4ms/step - accuracy: 0.9524 - loss: 0.1690 - val_accuracy: 0.9450 - val_loss: 0.1651\n",
            "Epoch 7/25\n",
            "\u001b[1m400/400\u001b[0m \u001b[32m━━━━━━━━━━━━━━━━━━━━\u001b[0m\u001b[37m\u001b[0m \u001b[1m1s\u001b[0m 4ms/step - accuracy: 0.9506 - loss: 0.1492 - val_accuracy: 0.9525 - val_loss: 0.1700\n",
            "Epoch 8/25\n",
            "\u001b[1m400/400\u001b[0m \u001b[32m━━━━━━━━━━━━━━━━━━━━\u001b[0m\u001b[37m\u001b[0m \u001b[1m1s\u001b[0m 3ms/step - accuracy: 0.9591 - loss: 0.1343 - val_accuracy: 0.9544 - val_loss: 0.1552\n",
            "Epoch 9/25\n",
            "\u001b[1m400/400\u001b[0m \u001b[32m━━━━━━━━━━━━━━━━━━━━\u001b[0m\u001b[37m\u001b[0m \u001b[1m1s\u001b[0m 3ms/step - accuracy: 0.9613 - loss: 0.1232 - val_accuracy: 0.9509 - val_loss: 0.1713\n",
            "Epoch 10/25\n",
            "\u001b[1m400/400\u001b[0m \u001b[32m━━━━━━━━━━━━━━━━━━━━\u001b[0m\u001b[37m\u001b[0m \u001b[1m1s\u001b[0m 3ms/step - accuracy: 0.9609 - loss: 0.1220 - val_accuracy: 0.9603 - val_loss: 0.1504\n",
            "Epoch 11/25\n",
            "\u001b[1m400/400\u001b[0m \u001b[32m━━━━━━━━━━━━━━━━━━━━\u001b[0m\u001b[37m\u001b[0m \u001b[1m4s\u001b[0m 6ms/step - accuracy: 0.9673 - loss: 0.1036 - val_accuracy: 0.9575 - val_loss: 0.1551\n",
            "Epoch 12/25\n",
            "\u001b[1m400/400\u001b[0m \u001b[32m━━━━━━━━━━━━━━━━━━━━\u001b[0m\u001b[37m\u001b[0m \u001b[1m1s\u001b[0m 3ms/step - accuracy: 0.9716 - loss: 0.0891 - val_accuracy: 0.9597 - val_loss: 0.1493\n",
            "Epoch 13/25\n",
            "\u001b[1m400/400\u001b[0m \u001b[32m━━━━━━━━━━━━━━━━━━━━\u001b[0m\u001b[37m\u001b[0m \u001b[1m1s\u001b[0m 4ms/step - accuracy: 0.9732 - loss: 0.0888 - val_accuracy: 0.9603 - val_loss: 0.1492\n",
            "Epoch 14/25\n",
            "\u001b[1m400/400\u001b[0m \u001b[32m━━━━━━━━━━━━━━━━━━━━\u001b[0m\u001b[37m\u001b[0m \u001b[1m1s\u001b[0m 4ms/step - accuracy: 0.9749 - loss: 0.0779 - val_accuracy: 0.9619 - val_loss: 0.1525\n",
            "Epoch 15/25\n",
            "\u001b[1m400/400\u001b[0m \u001b[32m━━━━━━━━━━━━━━━━━━━━\u001b[0m\u001b[37m\u001b[0m \u001b[1m2s\u001b[0m 5ms/step - accuracy: 0.9727 - loss: 0.0841 - val_accuracy: 0.9609 - val_loss: 0.1417\n",
            "Epoch 16/25\n",
            "\u001b[1m400/400\u001b[0m \u001b[32m━━━━━━━━━━━━━━━━━━━━\u001b[0m\u001b[37m\u001b[0m \u001b[1m1s\u001b[0m 4ms/step - accuracy: 0.9762 - loss: 0.0767 - val_accuracy: 0.9581 - val_loss: 0.1730\n",
            "Epoch 17/25\n",
            "\u001b[1m400/400\u001b[0m \u001b[32m━━━━━━━━━━━━━━━━━━━━\u001b[0m\u001b[37m\u001b[0m \u001b[1m2s\u001b[0m 4ms/step - accuracy: 0.9760 - loss: 0.0734 - val_accuracy: 0.9641 - val_loss: 0.1586\n",
            "Epoch 18/25\n",
            "\u001b[1m400/400\u001b[0m \u001b[32m━━━━━━━━━━━━━━━━━━━━\u001b[0m\u001b[37m\u001b[0m \u001b[1m3s\u001b[0m 7ms/step - accuracy: 0.9795 - loss: 0.0657 - val_accuracy: 0.9622 - val_loss: 0.1626\n",
            "Epoch 19/25\n",
            "\u001b[1m400/400\u001b[0m \u001b[32m━━━━━━━━━━━━━━━━━━━━\u001b[0m\u001b[37m\u001b[0m \u001b[1m1s\u001b[0m 4ms/step - accuracy: 0.9766 - loss: 0.0677 - val_accuracy: 0.9594 - val_loss: 0.1602\n",
            "Epoch 20/25\n",
            "\u001b[1m400/400\u001b[0m \u001b[32m━━━━━━━━━━━━━━━━━━━━\u001b[0m\u001b[37m\u001b[0m \u001b[1m1s\u001b[0m 4ms/step - accuracy: 0.9810 - loss: 0.0619 - val_accuracy: 0.9609 - val_loss: 0.1793\n",
            "Epoch 21/25\n",
            "\u001b[1m400/400\u001b[0m \u001b[32m━━━━━━━━━━━━━━━━━━━━\u001b[0m\u001b[37m\u001b[0m \u001b[1m1s\u001b[0m 4ms/step - accuracy: 0.9801 - loss: 0.0626 - val_accuracy: 0.9588 - val_loss: 0.1681\n",
            "Epoch 22/25\n",
            "\u001b[1m400/400\u001b[0m \u001b[32m━━━━━━━━━━━━━━━━━━━━\u001b[0m\u001b[37m\u001b[0m \u001b[1m1s\u001b[0m 4ms/step - accuracy: 0.9813 - loss: 0.0581 - val_accuracy: 0.9616 - val_loss: 0.1713\n",
            "Epoch 23/25\n",
            "\u001b[1m400/400\u001b[0m \u001b[32m━━━━━━━━━━━━━━━━━━━━\u001b[0m\u001b[37m\u001b[0m \u001b[1m1s\u001b[0m 4ms/step - accuracy: 0.9821 - loss: 0.0556 - val_accuracy: 0.9650 - val_loss: 0.1698\n",
            "Epoch 24/25\n",
            "\u001b[1m400/400\u001b[0m \u001b[32m━━━━━━━━━━━━━━━━━━━━\u001b[0m\u001b[37m\u001b[0m \u001b[1m1s\u001b[0m 4ms/step - accuracy: 0.9791 - loss: 0.0593 - val_accuracy: 0.9641 - val_loss: 0.1472\n",
            "Epoch 25/25\n",
            "\u001b[1m400/400\u001b[0m \u001b[32m━━━━━━━━━━━━━━━━━━━━\u001b[0m\u001b[37m\u001b[0m \u001b[1m2s\u001b[0m 4ms/step - accuracy: 0.9795 - loss: 0.0640 - val_accuracy: 0.9625 - val_loss: 0.1498\n",
            "🎊 Acurácia final no conjunto de teste: 0.9588\n"
          ]
        }
      ]
    },
    {
      "cell_type": "code",
      "source": [
        "print(\"📈 Análise do desempenho do modelo...\")\n",
        "\n",
        "# Gráficos de loss e accuracy\n",
        "fig, axes = plt.subplots(1, 2, figsize=(15, 5))\n",
        "\n",
        "# Loss\n",
        "axes[0].plot(history.history['loss'], label='Train Loss')\n",
        "axes[0].plot(history.history['val_loss'], label='Validation Loss')\n",
        "axes[0].set_title('Loss durante o Treinamento')\n",
        "axes[0].set_xlabel('Época')\n",
        "axes[0].set_ylabel('Loss')\n",
        "axes[0].legend()\n",
        "axes[0].grid(True, alpha=0.3)\n",
        "\n",
        "# Accuracy\n",
        "axes[1].plot(history.history['accuracy'], label='Train Accuracy')\n",
        "axes[1].plot(history.history['val_accuracy'], label='Validation Accuracy')\n",
        "axes[1].set_title('Acurácia durante o Treinamento')\n",
        "axes[1].set_xlabel('Época')\n",
        "axes[1].set_ylabel('Acurácia')\n",
        "axes[1].legend()\n",
        "axes[1].grid(True, alpha=0.3)\n",
        "\n",
        "plt.tight_layout()\n",
        "plt.show()"
      ],
      "metadata": {
        "colab": {
          "base_uri": "https://localhost:8080/",
          "height": 404
        },
        "id": "LaUI5LbjjX4L",
        "outputId": "dde5670a-fe7b-4660-b3cd-1de8c1b991d8"
      },
      "execution_count": null,
      "outputs": [
        {
          "output_type": "stream",
          "name": "stdout",
          "text": [
            "📈 Análise do desempenho do modelo...\n"
          ]
        },
        {
          "output_type": "display_data",
          "data": {
            "text/plain": [
              "<Figure size 1500x500 with 2 Axes>"
            ],
            "image/png": "[encoded data removed]"
          },
          "metadata": {}
        }
      ]
    },
    {
      "cell_type": "code",
      "source": [
        "# Previsões no conjunto de teste\n",
        "y_pred_proba = model.predict(X_test)\n",
        "y_pred = np.argmax(y_pred_proba, axis=1)\n",
        "\n",
        "# Matriz de confusão\n",
        "plt.figure(figsize=(10, 8))\n",
        "cm = confusion_matrix(y_test, y_pred)\n",
        "sns.heatmap(cm, annot=True, fmt='d', cmap='Blues',\n",
        "            xticklabels=range(10), yticklabels=range(10))\n",
        "plt.title('Matriz de Confusão - MNIST Dataset')\n",
        "plt.xlabel('Predito')\n",
        "plt.ylabel('Verdadeiro')\n",
        "plt.show()\n",
        "\n",
        "# Relatório de classificação\n",
        "print(\"📊 Relatório de Classificação Detalhado:\")\n",
        "print(classification_report(y_test, y_pred, digits=4))"
      ],
      "metadata": {
        "colab": {
          "base_uri": "https://localhost:8080/",
          "height": 1000
        },
        "id": "YIUZG_B0jlPq",
        "outputId": "b756058e-4628-481d-b395-5af06ec41bde"
      },
      "execution_count": null,
      "outputs": [
        {
          "output_type": "stream",
          "name": "stdout",
          "text": [
            "\u001b[1m125/125\u001b[0m \u001b[32m━━━━━━━━━━━━━━━━━━━━\u001b[0m\u001b[37m\u001b[0m \u001b[1m0s\u001b[0m 1ms/step\n"
          ]
        },
        {
          "output_type": "display_data",
          "data": {
            "text/plain": [
              "<Figure size 1000x800 with 2 Axes>"
            ],
            "image/png": "[encoded data removed]"
          },
          "metadata": {}
        },
        {
          "output_type": "stream",
          "name": "stdout",
          "text": [
            "📊 Relatório de Classificação Detalhado:\n",
            "              precision    recall  f1-score   support\n",
            "\n",
            "           0     0.9773    0.9898    0.9835       392\n",
            "           1     0.9672    0.9866    0.9768       449\n",
            "           2     0.9792    0.9447    0.9616       398\n",
            "           3     0.9410    0.9480    0.9445       404\n",
            "           4     0.9250    0.9610    0.9427       385\n",
            "           5     0.9410    0.9517    0.9463       352\n",
            "           6     0.9711    0.9877    0.9793       408\n",
            "           7     0.9877    0.9482    0.9676       425\n",
            "           8     0.9543    0.9293    0.9416       382\n",
            "           9     0.9404    0.9358    0.9381       405\n",
            "\n",
            "    accuracy                         0.9587      4000\n",
            "   macro avg     0.9584    0.9583    0.9582      4000\n",
            "weighted avg     0.9590    0.9587    0.9587      4000\n",
            "\n"
          ]
        }
      ]
    },
    {
      "cell_type": "markdown",
      "source": [
        "# Pergunta 1: Qual é a distribuição de acurácia por dígito e quais dígitos são mais difíceis de classificar?"
      ],
      "metadata": {
        "id": "MCBgIfzfj_CG"
      }
    },
    {
      "cell_type": "code",
      "source": [
        "from sklearn.metrics import balanced_accuracy_score\n",
        "\n",
        "balanced_acc = balanced_accuracy_score(y_test, y_pred)\n",
        "\n",
        "print(\"🎯 RESPOSTA 1 - ANÁLISE POR CLASSE:\")\n",
        "print(f\"Acurácia Balanceada: {balanced_acc:.4f}\")\n",
        "\n",
        "class_report = classification_report(y_test, y_pred, output_dict=True)\n",
        "print(\"\\n📊 Acurácia por dígito:\")\n",
        "accuracies = []\n",
        "for i in range(10):\n",
        "    precision = class_report[str(i)]['precision']\n",
        "    recall = class_report[str(i)]['recall']\n",
        "    f1 = class_report[str(i)]['f1-score']\n",
        "    accuracies.append((i, precision, recall, f1))\n",
        "    print(f\"  Dígito {i}: Precision={precision:.3f}, Recall={recall:.3f}, F1={f1:.3f}\")\n",
        "\n",
        "hardest_digit = min(accuracies, key=lambda x: x[3])[0]\n",
        "easiest_digit = max(accuracies, key=lambda x: x[3])[0]\n",
        "print(f\"\\n💡 Insight: Dígito mais difícil = {hardest_digit}, Dígito mais fácil = {easiest_digit}\")"
      ],
      "metadata": {
        "colab": {
          "base_uri": "https://localhost:8080/"
        },
        "id": "rhNjdqjGkCiN",
        "outputId": "0208a97e-582f-4749-bc99-9bac4c2b253f"
      },
      "execution_count": null,
      "outputs": [
        {
          "output_type": "stream",
          "name": "stdout",
          "text": [
            "🎯 RESPOSTA 1 - ANÁLISE POR CLASSE:\n",
            "Acurácia Balanceada: 0.9583\n",
            "\n",
            "📊 Acurácia por dígito:\n",
            "  Dígito 0: Precision=0.977, Recall=0.990, F1=0.984\n",
            "  Dígito 1: Precision=0.967, Recall=0.987, F1=0.977\n",
            "  Dígito 2: Precision=0.979, Recall=0.945, F1=0.962\n",
            "  Dígito 3: Precision=0.941, Recall=0.948, F1=0.945\n",
            "  Dígito 4: Precision=0.925, Recall=0.961, F1=0.943\n",
            "  Dígito 5: Precision=0.941, Recall=0.952, F1=0.946\n",
            "  Dígito 6: Precision=0.971, Recall=0.988, F1=0.979\n",
            "  Dígito 7: Precision=0.988, Recall=0.948, F1=0.968\n",
            "  Dígito 8: Precision=0.954, Recall=0.929, F1=0.942\n",
            "  Dígito 9: Precision=0.940, Recall=0.936, F1=0.938\n",
            "\n",
            "💡 Insight: Dígito mais difícil = 9, Dígito mais fácil = 0\n"
          ]
        }
      ]
    },
    {
      "cell_type": "markdown",
      "source": [
        "# Pergunta 2: Como a arquitetura da rede neural influencia a capacidade de aprendizado?"
      ],
      "metadata": {
        "id": "IIaPhsR5kLkM"
      }
    },
    {
      "cell_type": "code",
      "source": [],
      "metadata": {
        "id": "8u5i8nuTlCjk"
      },
      "execution_count": null,
      "outputs": []
    },
    {
      "cell_type": "code",
      "metadata": {
        "colab": {
          "base_uri": "https://localhost:8080/"
        },
        "id": "5ca00951",
        "outputId": "d5eb0e5a-9cbc-42a3-e150-259f124e51c0"
      },
      "source": [
        "print(\"🤖 RESPOSTA 2 - ANÁLISE DA ARQUITETURA:\")\n",
        "\n",
        "total_params = model.count_params()\n",
        "print(f\"  • Total de parâmetros: {total_params:,}\")\n",
        "print(f\"  • Camadas: {len(model.layers)}\")\n",
        "print(f\"  • Neurônios na primeira camada: {model.input_shape[1]}\")\n",
        "print(f\"  • Taxa de dropout: 30%\")\n",
        "\n",
        "# Análise da curva de aprendizado\n",
        "final_train_acc = history.history['accuracy'][-1]\n",
        "final_val_acc = history.history['val_accuracy'][-1]\n",
        "gap = final_train_acc - final_val_acc\n",
        "\n",
        "print(f\"  • Acurácia final (treino): {final_train_acc:.4f}\")\n",
        "print(f\"  • Acurácia final (validação): {final_val_acc:.4f}\")\n",
        "print(f\"  • Gap (treino - validação): {gap:.4f}\")\n",
        "\n",
        "if gap < 0.05:\n",
        "    print(\"  ✅ Modelo generalizando bem - arquitetura adequada\")\n",
        "else:\n",
        "    print(\"  ⚠️  Possível overfitting - considerar regularização adicional\")"
      ],
      "execution_count": null,
      "outputs": [
        {
          "output_type": "stream",
          "name": "stdout",
          "text": [
            "🤖 RESPOSTA 2 - ANÁLISE DA ARQUITETURA:\n",
            "  • Total de parâmetros: 111,146\n",
            "  • Camadas: 6\n",
            "  • Neurônios na primeira camada: 784\n",
            "  • Taxa de dropout: 30%\n",
            "  • Acurácia final (treino): 0.9785\n",
            "  • Acurácia final (validação): 0.9625\n",
            "  • Gap (treino - validação): 0.0160\n",
            "  ✅ Modelo generalizando bem - arquitetura adequada\n"
          ]
        }
      ]
    },
    {
      "cell_type": "markdown",
      "source": [
        "# Pergunta 3: Quais dígitos são mais frequentemente confundidos e por quê?\n"
      ],
      "metadata": {
        "id": "egdTYJC7lKoV"
      }
    },
    {
      "cell_type": "code",
      "source": [
        "print(\"🔍 RESPOSTA 3 - ANÁLISE DE CONFUSÕES:\")\n",
        "\n",
        "confusion_pairs = []\n",
        "for i in range(10):\n",
        "    for j in range(10):\n",
        "        if i != j and cm[i, j] > 0:\n",
        "            confusion_pairs.append((i, j, cm[i, j]))\n",
        "\n",
        "confusion_pairs.sort(key=lambda x: x[2], reverse=True)\n",
        "\n",
        "print(\"Principais confusões entre dígitos:\")\n",
        "for i, j, count in confusion_pairs[:5]:\n",
        "    print(f\"  {i} → {j}: {count} vezes\")\n",
        "\n",
        "misclassified_idx = np.where(y_pred != y_test)[0]\n",
        "common_confusion = confusion_pairs[0] if confusion_pairs else (0, 0, 0)\n",
        "\n",
        "print(f\"\\n💡 Insight: A confusão mais comum é {common_confusion[0]}→{common_confusion[1]}\")\n",
        "print(\"   Isso pode ocorrer devido à similaridade visual entre esses dígitos\")"
      ],
      "metadata": {
        "colab": {
          "base_uri": "https://localhost:8080/"
        },
        "id": "lQ-GcqVClbmx",
        "outputId": "e4f0abef-185a-4f13-b16b-160629dd9abc"
      },
      "execution_count": null,
      "outputs": [
        {
          "output_type": "stream",
          "name": "stdout",
          "text": [
            "🔍 RESPOSTA 3 - ANÁLISE DE CONFUSÕES:\n",
            "Principais confusões entre dígitos:\n",
            "  9 → 4: 13 vezes\n",
            "  3 → 5: 10 vezes\n",
            "  2 → 4: 8 vezes\n",
            "  7 → 3: 8 vezes\n",
            "  4 → 9: 7 vezes\n",
            "\n",
            "💡 Insight: A confusão mais comum é 9→4\n",
            "   Isso pode ocorrer devido à similaridade visual entre esses dígitos\n"
          ]
        }
      ]
    },
    {
      "cell_type": "markdown",
      "source": [
        "# Pergunta 4: Qual é o impacto da normalização dos pixels no desempenho do modelo?"
      ],
      "metadata": {
        "id": "a3zCxbWhlr2p"
      }
    },
    {
      "cell_type": "code",
      "source": [
        "print(\"🎨 RESPOSTA 4 - IMPACTO DA NORMALIZAÇÃO:\")\n",
        "\n",
        "# Comparando estatísticas antes e depois da normalização\n",
        "print(\"Estatísticas dos pixels:\")\n",
        "print(f\"  • Antes da normalização: min={X.min()}, max={X.max()}, média={X.mean():.1f}\")\n",
        "print(f\"  • Após normalização: min={X_normalized.min()}, max={X_normalized.max()}, média={X_normalized.mean():.4f}\")\n",
        "\n",
        "print(\"\\n📊 Benefícios da normalização:\")\n",
        "benefits = [\n",
        "    \"Convergence mais rápida durante o treinamento\",\n",
        "    \"Estabilidade numérica melhorada\",\n",
        "    \"Gradientes mais suaves para otimização\",\n",
        "    \"Compatibilidade com funções de ativação\"\n",
        "]\n",
        "\n",
        "for benefit in benefits:\n",
        "    print(f\"  • {benefit}\")\n",
        "\n",
        "print(f\"\\n💡 A acurácia de {test_accuracy:.4f} comprova a eficácia do pré-processamento\")"
      ],
      "metadata": {
        "colab": {
          "base_uri": "https://localhost:8080/"
        },
        "id": "5O99P4F4l0So",
        "outputId": "b75a11cd-019c-46b6-8b83-7e7bd7f24ade"
      },
      "execution_count": null,
      "outputs": [
        {
          "output_type": "stream",
          "name": "stdout",
          "text": [
            "🎨 RESPOSTA 4 - IMPACTO DA NORMALIZAÇÃO:\n",
            "Estatísticas dos pixels:\n",
            "  • Antes da normalização: min=0, max=255, média=33.3\n",
            "  • Após normalização: min=0.0, max=1.0, média=0.1307\n",
            "\n",
            "📊 Benefícios da normalização:\n",
            "  • Convergence mais rápida durante o treinamento\n",
            "  • Estabilidade numérica melhorada\n",
            "  • Gradientes mais suaves para otimização\n",
            "  • Compatibilidade com funções de ativação\n",
            "\n",
            "💡 A acurácia de 0.9588 comprova a eficácia do pré-processamento\n"
          ]
        }
      ]
    },
    {
      "cell_type": "markdown",
      "source": [
        "# Pergunta 5: Como a distribuição dos dados afeta o aprendizado do modelo?"
      ],
      "metadata": {
        "id": "lCXm7MMSmFI5"
      }
    },
    {
      "cell_type": "code",
      "source": [
        "print(\"📈 RESPOSTA 5 - ANÁLISE DA DISTRIBUIÇÃO:\")\n",
        "\n",
        "# Análise de balanceamento\n",
        "original_dist = pd.Series(y).value_counts().sort_index()\n",
        "train_dist = pd.Series(y_train).value_counts().sort_index()\n",
        "\n",
        "print(\"Distribuição original vs treino:\")\n",
        "max_diff = 0\n",
        "for digit in range(10):\n",
        "    orig_pct = original_dist[digit] / len(y) * 100\n",
        "    train_pct = train_dist[digit] / len(y_train) * 100\n",
        "    diff = abs(orig_pct - train_pct)\n",
        "    max_diff = max(max_diff, diff)\n",
        "    print(f\"  Dígito {digit}: {orig_pct:.1f}% → {train_pct:.1f}%\")\n",
        "\n",
        "print(f\"\\n💡 Máxima variação na distribuição: {max_diff:.2f}%\")\n",
        "if max_diff < 5:\n",
        "    print(\"✅ Dataset bem balanceado - distribuição preservada\")\n",
        "else:\n",
        "    print(\"⚠️  Variação significativa - considerar rebalanceamento\")"
      ],
      "metadata": {
        "colab": {
          "base_uri": "https://localhost:8080/"
        },
        "id": "pKGXMz3JmMGw",
        "outputId": "440c51fc-cf32-4805-8be7-8f2d108c6f9b"
      },
      "execution_count": null,
      "outputs": [
        {
          "output_type": "stream",
          "name": "stdout",
          "text": [
            "📈 RESPOSTA 5 - ANÁLISE DA DISTRIBUIÇÃO:\n",
            "Distribuição original vs treino:\n",
            "  Dígito 0: 9.8% → 9.8%\n",
            "  Dígito 1: 11.2% → 11.2%\n",
            "  Dígito 2: 9.9% → 9.9%\n",
            "  Dígito 3: 10.1% → 10.1%\n",
            "  Dígito 4: 9.6% → 9.6%\n",
            "  Dígito 5: 8.8% → 8.8%\n",
            "  Dígito 6: 10.2% → 10.2%\n",
            "  Dígito 7: 10.6% → 10.6%\n",
            "  Dígito 8: 9.6% → 9.6%\n",
            "  Dígito 9: 10.1% → 10.1%\n",
            "\n",
            "💡 Máxima variação na distribuição: 0.00%\n",
            "✅ Dataset bem balanceado - distribuição preservada\n"
          ]
        }
      ]
    },
    {
      "cell_type": "markdown",
      "source": [
        "# Pergunta 6: Quais são as limitações do modelo e como poderíamos melhorá-lo?"
      ],
      "metadata": {
        "id": "Wv4r_8EdmX3c"
      }
    },
    {
      "cell_type": "code",
      "source": [
        "print(\"🚀 RESPOSTA 6 - LIMITAÇÕES E MELHORIAS:\")\n",
        "\n",
        "print(\"📊 Limitações identificadas:\")\n",
        "limitations = [\n",
        "    f\"Acurácia atual: {test_accuracy:.4f} (espaço para melhoria)\",\n",
        "    \"Modelo totalmente conectado pode não capturar padrões espaciais\",\n",
        "    \"Dataset pequeno pode limitar capacidade de generalização\",\n",
        "    \"Não considera rotações ou variações na escrita\"\n",
        "]\n",
        "\n",
        "for i, limitation in enumerate(limitations, 1):\n",
        "    print(f\"  {i}. {limitation}\")\n",
        "\n",
        "print(\"\\n💡 Sugestões de melhoria:\")\n",
        "improvements = [\n",
        "    \"Implementar redes neurais convolucionais (CNNs)\",\n",
        "    \"Aumento de dados (data augmentation)\",\n",
        "    \"Fine-tuning de hiperparâmetros\",\n",
        "    \"Ensemble de múltiplos modelos\",\n",
        "    \"Transfer learning com modelos pré-treinados\"\n",
        "]\n",
        "\n",
        "for i, improvement in enumerate(improvements, 1):\n",
        "    print(f\"  {i}. {improvement}\")"
      ],
      "metadata": {
        "colab": {
          "base_uri": "https://localhost:8080/"
        },
        "id": "wu4FfeeGmfSl",
        "outputId": "92491ad0-02a4-4482-e0fa-35e383234794"
      },
      "execution_count": null,
      "outputs": [
        {
          "output_type": "stream",
          "name": "stdout",
          "text": [
            "🚀 RESPOSTA 6 - LIMITAÇÕES E MELHORIAS:\n",
            "📊 Limitações identificadas:\n",
            "  1. Acurácia atual: 0.9588 (espaço para melhoria)\n",
            "  2. Modelo totalmente conectado pode não capturar padrões espaciais\n",
            "  3. Dataset pequeno pode limitar capacidade de generalização\n",
            "  4. Não considera rotações ou variações na escrita\n",
            "\n",
            "💡 Sugestões de melhoria:\n",
            "  1. Implementar redes neurais convolucionais (CNNs)\n",
            "  2. Aumento de dados (data augmentation)\n",
            "  3. Fine-tuning de hiperparâmetros\n",
            "  4. Ensemble de múltiplos modelos\n",
            "  5. Transfer learning com modelos pré-treinados\n"
          ]
        }
      ]
    },
    {
      "cell_type": "markdown",
      "source": [
        "# Pergunta 7: Quais aplicações práticas este modelo poderia ter no mundo real?"
      ],
      "metadata": {
        "id": "W1LATId9muMI"
      }
    },
    {
      "cell_type": "code",
      "source": [
        "print(\"🌍 RESPOSTA 7 - APLICAÇÕES PRÁTICAS:\")\n",
        "\n",
        "print(\"💼 Aplicações em diferentes setores:\")\n",
        "\n",
        "applications = [\n",
        "    \"Setor Bancário: Reconhecimento de números em cheques:cite[4]\",\n",
        "    \"Serviços Postais: Leitura automática de códigos postais:cite[4]\",\n",
        "    \"Gestão Documental: Digitalização de documentos manuscritos:cite[4]\",\n",
        "    \"Educação: Correção automática de exercícios numéricos\",\n",
        "    \"Acessibilidade: Leitores para pessoas com deficiência visual\"\n",
        "]\n",
        "\n",
        "for i, application in enumerate(applications, 1):\n",
        "    print(f\"  {i}. {application}\")\n",
        "\n",
        "print(f\"\\n🎯 Próximos passos para produção:\")\n",
        "next_steps = [\n",
        "    \"Otimizar modelo para desempenho em tempo real\",\n",
        "    \"Desenvolver API para integração com outros sistemas\",\n",
        "    \"Coletar mais dados do domínio específico\",\n",
        "    \"Implementar sistema de feedback contínuo\"\n",
        "]\n",
        "\n",
        "for i, step in enumerate(next_steps, 1):\n",
        "    print(f\"  {i}. {step}\")"
      ],
      "metadata": {
        "colab": {
          "base_uri": "https://localhost:8080/"
        },
        "id": "wLSaCK5Nm158",
        "outputId": "3275caba-112b-4b67-9782-f6261edd320c"
      },
      "execution_count": null,
      "outputs": [
        {
          "output_type": "stream",
          "name": "stdout",
          "text": [
            "🌍 RESPOSTA 7 - APLICAÇÕES PRÁTICAS:\n",
            "💼 Aplicações em diferentes setores:\n",
            "  1. Setor Bancário: Reconhecimento de números em cheques:cite[4]\n",
            "  2. Serviços Postais: Leitura automática de códigos postais:cite[4]\n",
            "  3. Gestão Documental: Digitalização de documentos manuscritos:cite[4]\n",
            "  4. Educação: Correção automática de exercícios numéricos\n",
            "  5. Acessibilidade: Leitores para pessoas com deficiência visual\n",
            "\n",
            "🎯 Próximos passos para produção:\n",
            "  1. Otimizar modelo para desempenho em tempo real\n",
            "  2. Desenvolver API para integração com outros sistemas\n",
            "  3. Coletar mais dados do domínio específico\n",
            "  4. Implementar sistema de feedback contínuo\n"
          ]
        }
      ]
    }
  ]
}